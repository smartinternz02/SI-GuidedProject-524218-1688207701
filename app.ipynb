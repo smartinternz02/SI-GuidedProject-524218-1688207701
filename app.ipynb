{
  "nbformat": 4,
  "nbformat_minor": 0,
  "metadata": {
    "colab": {
      "provenance": []
    },
    "kernelspec": {
      "name": "python3",
      "display_name": "Python 3"
    },
    "language_info": {
      "name": "python"
    }
  },
  "cells": [
    {
      "cell_type": "code",
      "execution_count": null,
      "metadata": {
        "colab": {
          "base_uri": "https://localhost:8080/"
        },
        "id": "WxtKAdVRN901",
        "outputId": "7729ab14-ee1d-480e-b232-7add0a0f016f"
      },
      "outputs": [
        {
          "output_type": "stream",
          "name": "stdout",
          "text": [
            " * Serving Flask app '__main__'\n",
            " * Debug mode: on\n"
          ]
        },
        {
          "output_type": "stream",
          "name": "stderr",
          "text": [
            "INFO:werkzeug:\u001b[31m\u001b[1mWARNING: This is a development server. Do not use it in a production deployment. Use a production WSGI server instead.\u001b[0m\n",
            " * Running on http://127.0.0.1:5000\n",
            "INFO:werkzeug:\u001b[33mPress CTRL+C to quit\u001b[0m\n",
            "INFO:werkzeug: * Restarting with stat\n"
          ]
        }
      ],
      "source": [
        "from flask import Flask, request, render_template, flash\n",
        "\n",
        "import pickle\n",
        "\n",
        "app = Flask(__name__)\n",
        "app.config['SECRET_KEY'] = 'supersecret'\n",
        "\n",
        "scaler = pickle.load(open('scaler.pkl', 'rb'))\n",
        "model = pickle.load(open('best_model.pkl', 'rb'))\n",
        "\n",
        "@app.route('/', methods=['GET', 'POST'])\n",
        "def home():\n",
        "    prediction = -1\n",
        "    if request.method == 'POST':\n",
        "        Age = int(request.form.get('Age'))\n",
        "        Sex = int(request.form.get('Sex'))\n",
        "        HighBP = int(request.form.get('HighBP'))\n",
        "        HighChol = int(request.form.get('HighChol'))\n",
        "        Stroke = float(request.form.get('Stroke'))\n",
        "        BMI = float(request.form.get('BMI'))\n",
        "        HvyAlcoholConsump = float(request.form.get('HvyAlcoholConsump'))\n",
        "        GenHlth = int(request.form.get('GenHlth'))\n",
        "\n",
        "        input_features = [[Age, Sex, HighBP, HighChol, Stroke, BMI, HvyAlcoholConsump, GenHlth]]\n",
        "        # print(input_features)\n",
        "        prediction = model.predict(scaler.transform(input_features))\n",
        "        # print(prediction)\n",
        "\n",
        "    return render_template('index.html', prediction=prediction)\n",
        "\n",
        "if __name__ == '__main__':\n",
        "    app.run(debug=True)"
      ]
    }
  ]
}